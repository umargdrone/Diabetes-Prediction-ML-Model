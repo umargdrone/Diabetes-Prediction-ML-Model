{
 "cells": [
  {
   "cell_type": "code",
   "execution_count": 1,
   "id": "0a944f61",
   "metadata": {},
   "outputs": [
    {
     "name": "stdout",
     "output_type": "stream",
     "text": [
      "accuracy score of the training data: 0.7866449511400652\n",
      "accuracy score of the training data: 0.7727272727272727\n",
      "pregnancy(in months)>> 0\n",
      "Glucose level>> 148\n",
      "Blood Pressure>> 72\n",
      "Skin Thickness>> 35\n",
      "Insulin level>> 0\n",
      "BMI>> 33.6\n",
      "diabetes Pedigree Function>> 0.627\n",
      "age>> 30\n",
      "[[-1.14185152  0.84832379  0.14964075  0.90726993 -0.69289057  0.20401277\n",
      "   0.46849198 -0.27575966]]\n",
      "[1]\n",
      "Hey!!! you need to go for check-up\n"
     ]
    }
   ],
   "source": [
    "import numpy as np\n",
    "import pandas as pd\n",
    "from sklearn.preprocessing import StandardScaler\n",
    "from sklearn.model_selection import train_test_split\n",
    "from sklearn import svm\n",
    "from sklearn.metrics import accuracy_score\n",
    "\n",
    "diabetes_datasets = pd.read_csv(\"E://R_Data//diabetes.csv\")\n",
    "\n",
    "#grouping (separating) the data labels\n",
    "X = diabetes_datasets.drop(columns=\"Outcome\", axis=1)\n",
    "Y = diabetes_datasets['Outcome'] #\"Outcomes\" is now stored in Y\n",
    "\n",
    "#data standadization: is a process of converting data to z-score values based on the mean and standard deviation of the data\n",
    "\"\"\"basically each value of a given featured of dataset will be converted to a representative number of standard deviation that\n",
    "it is away from the mean feature\"\"\"\n",
    "scaler = StandardScaler()\n",
    "scaler.fit(X)\n",
    "standardized_data = scaler.transform(X)\n",
    "\n",
    "X = standardized_data\n",
    "Y = diabetes_datasets['Outcome']\n",
    "\n",
    "\"\"\"we split the data into test and train data\"\"\"\n",
    "#Train Test split\n",
    "X_train, X_test, Y_train, Y_test = train_test_split(X, Y, test_size=0.2, stratify=Y, random_state=2)\n",
    "#print(X.shape, X_train.shape, X_test.shape) #to view the size of total X data, train data and test data\n",
    "\n",
    "\"\"\"Training\"\"\"\n",
    "classifier = svm.SVC(kernel = \"linear\")\n",
    "classifier.fit(X_train, Y_train)\n",
    "\n",
    "\"\"\"Model evaluation\"\"\"\n",
    "X_train_prediction = classifier.predict(X_train)\n",
    "training_data_accuracy = accuracy_score(X_train_prediction, Y_train)\n",
    "print('accuracy score of the training data:', training_data_accuracy)\n",
    "\n",
    "X_test_prediction = classifier.predict(X_test)\n",
    "test_data_accuracy = accuracy_score(X_test_prediction, Y_test)\n",
    "print('accuracy score of the training data:', test_data_accuracy)\n",
    "\n",
    "\"\"\"Collecting user Health information\"\"\"\n",
    "a = float(input(\"pregnancy(in months)>> \"))\n",
    "b = float(input(\"Glucose level>> \"))\n",
    "c = float(input(\"Blood Pressure>> \"))\n",
    "d = float(input(\"Skin Thickness>> \"))\n",
    "e = float(input(\"Insulin level>> \"))\n",
    "f = float(input(\"BMI>> \"))\n",
    "g = float(input(\"diabetes Pedigree Function>> \"))\n",
    "h = float(input(\"age>> \"))\n",
    "input_data = [a,b,c,d,e,f,g,h]\n",
    "# we change the data to a numpy array\n",
    "input_data_asarray = np.asarray(input_data)\n",
    "#reshaping to predict for one instance(one input)\n",
    "input_data_reshaped = input_data_asarray.reshape(1,-1)\n",
    "#we standardized the data we trained the model using standardized data \n",
    "std_data = scaler.transform(input_data_reshaped)\n",
    "print(std_data)\n",
    "\n",
    "prediction = classifier.predict(std_data)\n",
    "print(prediction)\n",
    "if prediction[0]==0:\n",
    "    print(\"you are not diabetic\")\n",
    "else:\n",
    "    print(\"Hey!!! you need to go for check-up\")"
   ]
  },
  {
   "cell_type": "code",
   "execution_count": null,
   "id": "6ead2e58",
   "metadata": {},
   "outputs": [],
   "source": []
  }
 ],
 "metadata": {
  "kernelspec": {
   "display_name": "Python 3 (ipykernel)",
   "language": "python",
   "name": "python3"
  },
  "language_info": {
   "codemirror_mode": {
    "name": "ipython",
    "version": 3
   },
   "file_extension": ".py",
   "mimetype": "text/x-python",
   "name": "python",
   "nbconvert_exporter": "python",
   "pygments_lexer": "ipython3",
   "version": "3.9.7"
  }
 },
 "nbformat": 4,
 "nbformat_minor": 5
}
